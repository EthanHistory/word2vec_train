{
 "cells": [
  {
   "cell_type": "code",
   "execution_count": 1,
   "metadata": {},
   "outputs": [
    {
     "name": "stdout",
     "output_type": "stream",
     "text": [
      "Requirement already satisfied: python-jobspy in /Users/inssa/miniconda3/envs/dl_hw2/lib/python3.10/site-packages (1.1.51)\n",
      "Requirement already satisfied: pandas in /Users/inssa/miniconda3/envs/dl_hw2/lib/python3.10/site-packages (2.2.2)\n",
      "Requirement already satisfied: NUMPY==1.24.2 in /Users/inssa/miniconda3/envs/dl_hw2/lib/python3.10/site-packages (from python-jobspy) (1.24.2)\n",
      "Requirement already satisfied: beautifulsoup4<5.0.0,>=4.12.2 in /Users/inssa/miniconda3/envs/dl_hw2/lib/python3.10/site-packages (from python-jobspy) (4.12.3)\n",
      "Requirement already satisfied: markdownify<0.12.0,>=0.11.6 in /Users/inssa/miniconda3/envs/dl_hw2/lib/python3.10/site-packages (from python-jobspy) (0.11.6)\n",
      "Requirement already satisfied: pydantic<3.0.0,>=2.3.0 in /Users/inssa/miniconda3/envs/dl_hw2/lib/python3.10/site-packages (from python-jobspy) (2.7.0)\n",
      "Requirement already satisfied: requests<3.0.0,>=2.31.0 in /Users/inssa/miniconda3/envs/dl_hw2/lib/python3.10/site-packages (from python-jobspy) (2.31.0)\n",
      "Requirement already satisfied: tls-client<2.0.0,>=1.0.1 in /Users/inssa/miniconda3/envs/dl_hw2/lib/python3.10/site-packages (from python-jobspy) (1.0.1)\n",
      "Requirement already satisfied: python-dateutil>=2.8.2 in /Users/inssa/miniconda3/envs/dl_hw2/lib/python3.10/site-packages (from pandas) (2.9.0)\n",
      "Requirement already satisfied: pytz>=2020.1 in /Users/inssa/miniconda3/envs/dl_hw2/lib/python3.10/site-packages (from pandas) (2024.1)\n",
      "Requirement already satisfied: tzdata>=2022.7 in /Users/inssa/miniconda3/envs/dl_hw2/lib/python3.10/site-packages (from pandas) (2024.1)\n",
      "Requirement already satisfied: soupsieve>1.2 in /Users/inssa/miniconda3/envs/dl_hw2/lib/python3.10/site-packages (from beautifulsoup4<5.0.0,>=4.12.2->python-jobspy) (2.5)\n",
      "Requirement already satisfied: six<2,>=1.15 in /Users/inssa/miniconda3/envs/dl_hw2/lib/python3.10/site-packages (from markdownify<0.12.0,>=0.11.6->python-jobspy) (1.16.0)\n",
      "Requirement already satisfied: annotated-types>=0.4.0 in /Users/inssa/miniconda3/envs/dl_hw2/lib/python3.10/site-packages (from pydantic<3.0.0,>=2.3.0->python-jobspy) (0.6.0)\n",
      "Requirement already satisfied: pydantic-core==2.18.1 in /Users/inssa/miniconda3/envs/dl_hw2/lib/python3.10/site-packages (from pydantic<3.0.0,>=2.3.0->python-jobspy) (2.18.1)\n",
      "Requirement already satisfied: typing-extensions>=4.6.1 in /Users/inssa/miniconda3/envs/dl_hw2/lib/python3.10/site-packages (from pydantic<3.0.0,>=2.3.0->python-jobspy) (4.11.0)\n",
      "Requirement already satisfied: charset-normalizer<4,>=2 in /Users/inssa/miniconda3/envs/dl_hw2/lib/python3.10/site-packages (from requests<3.0.0,>=2.31.0->python-jobspy) (3.3.2)\n",
      "Requirement already satisfied: idna<4,>=2.5 in /Users/inssa/miniconda3/envs/dl_hw2/lib/python3.10/site-packages (from requests<3.0.0,>=2.31.0->python-jobspy) (3.7)\n",
      "Requirement already satisfied: urllib3<3,>=1.21.1 in /Users/inssa/miniconda3/envs/dl_hw2/lib/python3.10/site-packages (from requests<3.0.0,>=2.31.0->python-jobspy) (2.2.1)\n",
      "Requirement already satisfied: certifi>=2017.4.17 in /Users/inssa/miniconda3/envs/dl_hw2/lib/python3.10/site-packages (from requests<3.0.0,>=2.31.0->python-jobspy) (2024.2.2)\n"
     ]
    }
   ],
   "source": [
    "!pip install python-jobspy pandas"
   ]
  },
  {
   "cell_type": "code",
   "execution_count": 2,
   "metadata": {},
   "outputs": [
    {
     "name": "stderr",
     "output_type": "stream",
     "text": [
      "2024-04-20 17:34:46,402 - JobSpy - INFO - Indeed search page: 1\n",
      "2024-04-20 17:34:46,402 - JobSpy - INFO - LinkedIn search page: 1\n",
      "2024-04-20 17:34:46,573 - JobSpy - INFO - ZipRecruiter search page: 1\n",
      "2024-04-20 17:34:47,183 - JobSpy - INFO - Indeed finished scraping\n",
      "2024-04-20 17:34:47,740 - JobSpy - INFO - Glassdoor search page: 1\n",
      "2024-04-20 17:34:48,741 - JobSpy - INFO - Glassdoor search page: 2\n",
      "2024-04-20 17:34:50,141 - JobSpy - INFO - Glassdoor search page: 3\n",
      "2024-04-20 17:34:51,472 - JobSpy - INFO - Glassdoor search page: 4\n",
      "2024-04-20 17:34:52,103 - JobSpy - INFO - LinkedIn search page: 2\n",
      "2024-04-20 17:34:52,201 - JobSpy - INFO - ZipRecruiter search page: 2\n",
      "2024-04-20 17:34:52,341 - JobSpy - INFO - Glassdoor finished scraping\n",
      "2024-04-20 17:34:57,723 - JobSpy - INFO - ZipRecruiter search page: 3\n",
      "2024-04-20 17:34:58,943 - JobSpy - INFO - LinkedIn search page: 3\n",
      "2024-04-20 17:35:03,286 - JobSpy - INFO - ZipRecruiter search page: 4\n",
      "2024-04-20 17:35:06,197 - JobSpy - INFO - LinkedIn search page: 4\n",
      "2024-04-20 17:35:08,855 - JobSpy - INFO - ZipRecruiter search page: 5\n",
      "2024-04-20 17:35:09,439 - JobSpy - INFO - ZipRecruiter finished scraping\n",
      "2024-04-20 17:35:10,643 - JobSpy - INFO - LinkedIn search page: 5\n",
      "2024-04-20 17:35:18,976 - JobSpy - INFO - LinkedIn search page: 6\n",
      "2024-04-20 17:35:23,482 - JobSpy - INFO - LinkedIn search page: 7\n",
      "2024-04-20 17:35:41,435 - JobSpy - INFO - LinkedIn search page: 8\n",
      "2024-04-20 17:35:47,876 - JobSpy - INFO - LinkedIn search page: 9\n",
      "2024-04-20 17:35:55,227 - JobSpy - INFO - LinkedIn search page: 10\n",
      "2024-04-20 17:36:02,017 - JobSpy - INFO - LinkedIn search page: 11\n",
      "2024-04-20 17:36:03,032 - JobSpy - INFO - Linkedin finished scraping\n"
     ]
    },
    {
     "name": "stdout",
     "output_type": "stream",
     "text": [
      "Found 400 jobs\n"
     ]
    }
   ],
   "source": [
    "import datetime\n",
    "from jobspy import scrape_jobs\n",
    "import pandas as pd\n",
    "\n",
    "current_date = datetime.datetime.now().strftime(\"%Y-%m-%d\")\n",
    "\n",
    "search_terms = [\n",
    "    'Software Engineer'\n",
    "]\n",
    "\n",
    "num_results = 100\n",
    "data = None\n",
    "for search_term in search_terms:\n",
    "    jobs = scrape_jobs(\n",
    "        site_name=[\"indeed\", \"linkedin\", \"zip_recruiter\", \"glassdoor\"],\n",
    "        search_term=search_term,\n",
    "        results_wanted=num_results,\n",
    "        country_indeed='USA',  # only needed for indeed / glassdoor\n",
    "        full_description=True # (get full description for LinkedIn/Indeed; slower)\n",
    "    )\n",
    "    jobs['search_term'] = search_term\n",
    "    print(f\"Found {len(jobs)} jobs\")\n",
    "    if data is not None:\n",
    "        data = pd.concat([data, jobs])\n",
    "    else:\n",
    "        data = jobs\n",
    "data['search_date'] = current_date\n",
    "data.to_csv(f\"{current_date}_jobspy_data.csv\", index=False)"
   ]
  }
 ],
 "metadata": {
  "kernelspec": {
   "display_name": "ADML",
   "language": "python",
   "name": "python3"
  },
  "language_info": {
   "codemirror_mode": {
    "name": "ipython",
    "version": 3
   },
   "file_extension": ".py",
   "mimetype": "text/x-python",
   "name": "python",
   "nbconvert_exporter": "python",
   "pygments_lexer": "ipython3",
   "version": "3.10.14"
  }
 },
 "nbformat": 4,
 "nbformat_minor": 2
}
