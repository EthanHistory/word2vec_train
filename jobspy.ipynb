{
 "cells": [
  {
   "cell_type": "code",
   "execution_count": 1,
   "metadata": {},
   "outputs": [
    {
     "name": "stdout",
     "output_type": "stream",
     "text": [
      "Collecting python-jobspy\n",
      "  Using cached python_jobspy-1.1.51-py3-none-any.whl.metadata (9.1 kB)\n",
      "Requirement already satisfied: pandas in /Users/inssa/miniconda3/envs/dl_hw2/lib/python3.10/site-packages (2.2.2)\n",
      "Collecting NUMPY==1.24.2 (from python-jobspy)\n",
      "  Using cached numpy-1.24.2-cp310-cp310-macosx_11_0_arm64.whl.metadata (5.6 kB)\n",
      "Collecting beautifulsoup4<5.0.0,>=4.12.2 (from python-jobspy)\n",
      "  Using cached beautifulsoup4-4.12.3-py3-none-any.whl.metadata (3.8 kB)\n",
      "Collecting markdownify<0.12.0,>=0.11.6 (from python-jobspy)\n",
      "  Using cached markdownify-0.11.6-py3-none-any.whl.metadata (7.3 kB)\n",
      "Requirement already satisfied: pydantic<3.0.0,>=2.3.0 in /Users/inssa/miniconda3/envs/dl_hw2/lib/python3.10/site-packages (from python-jobspy) (2.7.0)\n",
      "Requirement already satisfied: requests<3.0.0,>=2.31.0 in /Users/inssa/miniconda3/envs/dl_hw2/lib/python3.10/site-packages (from python-jobspy) (2.31.0)\n",
      "Collecting tls-client<2.0.0,>=1.0.1 (from python-jobspy)\n",
      "  Using cached tls_client-1.0.1-py3-none-any.whl.metadata (5.0 kB)\n",
      "Requirement already satisfied: python-dateutil>=2.8.2 in /Users/inssa/miniconda3/envs/dl_hw2/lib/python3.10/site-packages (from pandas) (2.9.0)\n",
      "Requirement already satisfied: pytz>=2020.1 in /Users/inssa/miniconda3/envs/dl_hw2/lib/python3.10/site-packages (from pandas) (2024.1)\n",
      "Requirement already satisfied: tzdata>=2022.7 in /Users/inssa/miniconda3/envs/dl_hw2/lib/python3.10/site-packages (from pandas) (2024.1)\n",
      "Collecting soupsieve>1.2 (from beautifulsoup4<5.0.0,>=4.12.2->python-jobspy)\n",
      "  Using cached soupsieve-2.5-py3-none-any.whl.metadata (4.7 kB)\n",
      "Requirement already satisfied: six<2,>=1.15 in /Users/inssa/miniconda3/envs/dl_hw2/lib/python3.10/site-packages (from markdownify<0.12.0,>=0.11.6->python-jobspy) (1.16.0)\n",
      "Requirement already satisfied: annotated-types>=0.4.0 in /Users/inssa/miniconda3/envs/dl_hw2/lib/python3.10/site-packages (from pydantic<3.0.0,>=2.3.0->python-jobspy) (0.6.0)\n",
      "Requirement already satisfied: pydantic-core==2.18.1 in /Users/inssa/miniconda3/envs/dl_hw2/lib/python3.10/site-packages (from pydantic<3.0.0,>=2.3.0->python-jobspy) (2.18.1)\n",
      "Requirement already satisfied: typing-extensions>=4.6.1 in /Users/inssa/miniconda3/envs/dl_hw2/lib/python3.10/site-packages (from pydantic<3.0.0,>=2.3.0->python-jobspy) (4.11.0)\n",
      "Requirement already satisfied: charset-normalizer<4,>=2 in /Users/inssa/miniconda3/envs/dl_hw2/lib/python3.10/site-packages (from requests<3.0.0,>=2.31.0->python-jobspy) (3.3.2)\n",
      "Requirement already satisfied: idna<4,>=2.5 in /Users/inssa/miniconda3/envs/dl_hw2/lib/python3.10/site-packages (from requests<3.0.0,>=2.31.0->python-jobspy) (3.7)\n",
      "Requirement already satisfied: urllib3<3,>=1.21.1 in /Users/inssa/miniconda3/envs/dl_hw2/lib/python3.10/site-packages (from requests<3.0.0,>=2.31.0->python-jobspy) (2.2.1)\n",
      "Requirement already satisfied: certifi>=2017.4.17 in /Users/inssa/miniconda3/envs/dl_hw2/lib/python3.10/site-packages (from requests<3.0.0,>=2.31.0->python-jobspy) (2024.2.2)\n",
      "Using cached python_jobspy-1.1.51-py3-none-any.whl (29 kB)\n",
      "Using cached numpy-1.24.2-cp310-cp310-macosx_11_0_arm64.whl (13.9 MB)\n",
      "Using cached beautifulsoup4-4.12.3-py3-none-any.whl (147 kB)\n",
      "Using cached markdownify-0.11.6-py3-none-any.whl (16 kB)\n",
      "Using cached tls_client-1.0.1-py3-none-any.whl (41.3 MB)\n",
      "Using cached soupsieve-2.5-py3-none-any.whl (36 kB)\n",
      "Installing collected packages: tls-client, soupsieve, NUMPY, beautifulsoup4, markdownify, python-jobspy\n",
      "  Attempting uninstall: NUMPY\n",
      "    Found existing installation: numpy 1.26.4\n",
      "    Uninstalling numpy-1.26.4:\n",
      "      Successfully uninstalled numpy-1.26.4\n",
      "Successfully installed NUMPY-1.24.2 beautifulsoup4-4.12.3 markdownify-0.11.6 python-jobspy-1.1.51 soupsieve-2.5 tls-client-1.0.1\n"
     ]
    }
   ],
   "source": [
    "!pip install -U python-jobspy pandas"
   ]
  },
  {
   "cell_type": "code",
   "execution_count": 2,
   "metadata": {},
   "outputs": [
    {
     "name": "stderr",
     "output_type": "stream",
     "text": [
      "2024-04-16 23:20:34,498 - JobSpy - INFO - Indeed search page: 1\n",
      "2024-04-16 23:20:34,499 - JobSpy - INFO - LinkedIn search page: 1\n",
      "2024-04-16 23:20:34,678 - JobSpy - INFO - ZipRecruiter search page: 1\n",
      "2024-04-16 23:20:35,449 - JobSpy - INFO - Indeed finished scraping\n",
      "2024-04-16 23:20:36,536 - JobSpy - INFO - Glassdoor search page: 1\n",
      "2024-04-16 23:20:37,613 - JobSpy - INFO - Glassdoor search page: 2\n",
      "2024-04-16 23:20:38,733 - JobSpy - INFO - Glassdoor search page: 3\n",
      "2024-04-16 23:20:40,277 - JobSpy - INFO - Glassdoor search page: 4\n",
      "2024-04-16 23:20:40,383 - JobSpy - INFO - ZipRecruiter search page: 2\n",
      "2024-04-16 23:20:41,729 - JobSpy - INFO - Glassdoor finished scraping\n",
      "2024-04-16 23:20:45,955 - JobSpy - INFO - ZipRecruiter search page: 3\n",
      "2024-04-16 23:20:51,644 - JobSpy - INFO - ZipRecruiter search page: 4\n",
      "2024-04-16 23:20:57,270 - JobSpy - INFO - ZipRecruiter search page: 5\n",
      "2024-04-16 23:20:58,012 - JobSpy - INFO - ZipRecruiter finished scraping\n",
      "2024-04-16 23:21:04,967 - JobSpy - ERROR - LinkedIn: HTTPSConnectionPool(host='www.linkedin.com', port=443): Max retries exceeded with url: /jobs-guest/jobs/api/seeMoreJobPostings/search?keywords=Software+Engineer&distance=50&pageNum=0&start=0 (Caused by ResponseError('too many 429 error responses'))\n",
      "2024-04-16 23:21:04,972 - JobSpy - INFO - Linkedin finished scraping\n"
     ]
    },
    {
     "name": "stdout",
     "output_type": "stream",
     "text": [
      "Found 300 jobs\n"
     ]
    }
   ],
   "source": [
    "import datetime\n",
    "from jobspy import scrape_jobs\n",
    "import pandas as pd\n",
    "\n",
    "current_date = datetime.datetime.now().strftime(\"%Y-%m-%d\")\n",
    "\n",
    "search_terms = [\n",
    "    'Software Engineer'\n",
    "]\n",
    "\n",
    "num_results = 100\n",
    "data = None\n",
    "for search_term in search_terms:\n",
    "    jobs = scrape_jobs(\n",
    "        site_name=[\"indeed\", \"linkedin\", \"zip_recruiter\", \"glassdoor\"],\n",
    "        search_term=search_term,\n",
    "        results_wanted=num_results,\n",
    "        country_indeed='USA',  # only needed for indeed / glassdoor\n",
    "        full_description=True # (get full description for LinkedIn/Indeed; slower)\n",
    "    )\n",
    "    jobs['search_term'] = search_term\n",
    "    print(f\"Found {len(jobs)} jobs\")\n",
    "    if data is not None:\n",
    "        data = pd.concat([data, jobs])\n",
    "    else:\n",
    "        data = jobs\n",
    "data['search_date'] = current_date\n",
    "data.to_csv(f\"{current_date}_jobspy_data.csv\", index=False)"
   ]
  },
  {
   "cell_type": "code",
   "execution_count": 13,
   "metadata": {},
   "outputs": [],
   "source": [
    "jobspy_data = pd.read_csv(f\"{current_date}_jobspy_data.csv\")"
   ]
  },
  {
   "cell_type": "code",
   "execution_count": 16,
   "metadata": {},
   "outputs": [
    {
     "data": {
      "text/plain": [
       "0      OneSparQ is looking for a Machine Learning Eng...\n",
       "1      **Be a Part of our Team!**\\n\\n\\nJoin a working...\n",
       "2      **Taskrabbit will never use text or chat appli...\n",
       "3      At Propel, our mission is to build modern, res...\n",
       "4      Fama is the innovator in online screening that...\n",
       "                             ...                        \n",
       "465    ... **Generative** **AI**. How you'll make an ...\n",
       "466    As the VP, Program Manager, **Generative** **A...\n",
       "467    Role Description This is a Program Manager rol...\n",
       "468    And, most recently the world of **Generative**...\n",
       "469    Expert at using **generative** **AI** to plus-...\n",
       "Name: description, Length: 470, dtype: object"
      ]
     },
     "execution_count": 16,
     "metadata": {},
     "output_type": "execute_result"
    }
   ],
   "source": [
    "jobspy_data.description"
   ]
  }
 ],
 "metadata": {
  "kernelspec": {
   "display_name": "ADML",
   "language": "python",
   "name": "python3"
  },
  "language_info": {
   "codemirror_mode": {
    "name": "ipython",
    "version": 3
   },
   "file_extension": ".py",
   "mimetype": "text/x-python",
   "name": "python",
   "nbconvert_exporter": "python",
   "pygments_lexer": "ipython3",
   "version": "3.10.14"
  }
 },
 "nbformat": 4,
 "nbformat_minor": 2
}
